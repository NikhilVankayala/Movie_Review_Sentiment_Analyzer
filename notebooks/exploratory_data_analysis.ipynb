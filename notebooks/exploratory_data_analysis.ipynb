{
 "cells": [
  {
   "cell_type": "code",
   "execution_count": null,
   "id": "a5421dfd",
   "metadata": {},
   "outputs": [],
   "source": [
    "# Cell 1: Import necessary libraries\n",
    "import pandas as pd\n",
    "from collections import Counter\n",
    "from wordcloud import WordCloud\n",
    "import matplotlib.pyplot as plt\n",
    "import seaborn as sns\n",
    "from pathlib import Path\n",
    "\n",
    "project_root = Path(__file__).parent.parent\n",
    "preprocessed_data_path = project_root / 'data' / 'preprocessed' / 'preprocessed_movie_reviews.csv'\n"
   ]
  },
  {
   "cell_type": "code",
   "execution_count": null,
   "id": "83ba427d",
   "metadata": {},
   "outputs": [],
   "source": [
    "# Cell 2: Load the preprocessed data\n",
    "try:\n",
    "    df = pd.read_csv(preprocessed_data_path)\n",
    "    print(\"Data loaded successfully!\")\n",
    "    print(df.head())\n",
    "except FileNotFoundError:\n",
    "    print(f\"Error: The file '{preprocessed_data_path}' was not found.\")\n",
    "    print(\"Please make sure you have run the preprocessing script and the file exists.\")\n",
    "    df = None"
   ]
  },
  {
   "cell_type": "code",
   "execution_count": null,
   "id": "eea60ea2",
   "metadata": {},
   "outputs": [],
   "source": [
    "# Cell 3: Initial Data Inspection\n",
    "if df is not None:\n",
    "    print(\"\\n--- Data Information ---\")\n",
    "    df.info()\n",
    "    \n",
    "    print(\"\\n--- Sentiment Label Distribution ---\")\n",
    "    print(df['sentiment_label'].value_counts())\n",
    "    \n",
    "    # Visualize the sentiment distribution\n",
    "    plt.figure(figsize=(6, 4))\n",
    "    sns.countplot(x='sentiment_label', data=df)\n",
    "    plt.title('Distribution of Sentiment Labels')\n",
    "    plt.show()"
   ]
  },
  {
   "cell_type": "code",
   "execution_count": null,
   "id": "f4ae7c8f",
   "metadata": {},
   "outputs": [],
   "source": [
    "# Cell 4: Analyze text length\n",
    "if df is not None:\n",
    "    df['text_length'] = df['preprocessed_text'].astype(str).apply(lambda x: len(x.split()))\n",
    "    \n",
    "    print(\"\\n--- Text Length Statistics ---\")\n",
    "    print(df.groupby('sentiment_label')['text_length'].describe())\n",
    "    \n",
    "    # Visualize text length distribution\n",
    "    plt.figure(figsize=(10, 6))\n",
    "    sns.histplot(data=df, x='text_length', hue='sentiment_label', kde=True, bins=50)\n",
    "    plt.title('Distribution of Text Length by Sentiment')\n",
    "    plt.show()"
   ]
  },
  {
   "cell_type": "code",
   "execution_count": null,
   "id": "fd34c377",
   "metadata": {},
   "outputs": [],
   "source": [
    "# Cell 5: Word Cloud Generation\n",
    "if df is not None:\n",
    "    # Separate text for positive and negative reviews\n",
    "    positive_text = \" \".join(df[df['sentiment_label'] == 'positive']['preprocessed_text'].astype(str))\n",
    "    negative_text = \" \".join(df[df['sentiment_label'] == 'negative']['preprocessed_text'].astype(str))\n",
    "    \n",
    "    print(\"\\n--- Generating Word Clouds... ---\")\n",
    "    \n",
    "    # Generate a word cloud for positive reviews\n",
    "    if positive_text:\n",
    "        wordcloud_positive = WordCloud(width=800, height=400, background_color='white').generate(positive_text)\n",
    "        plt.figure(figsize=(10, 5))\n",
    "        plt.imshow(wordcloud_positive, interpolation='bilinear')\n",
    "        plt.axis('off')\n",
    "        plt.title('Most Common Words in Positive Reviews')\n",
    "        plt.show()\n",
    "\n",
    "    # Generate a word cloud for negative reviews\n",
    "    if negative_text:\n",
    "        wordcloud_negative = WordCloud(width=800, height=400, background_color='white').generate(negative_text)\n",
    "        plt.figure(figsize=(10, 5))\n",
    "        plt.imshow(wordcloud_negative, interpolation='bilinear')\n",
    "        plt.axis('off')\n",
    "        plt.title('Most Common Words in Negative Reviews')\n",
    "        plt.show()"
   ]
  },
  {
   "cell_type": "code",
   "execution_count": null,
   "id": "25f6b8cd",
   "metadata": {},
   "outputs": [],
   "source": []
  }
 ],
 "metadata": {
  "kernelspec": {
   "display_name": ".venv",
   "language": "python",
   "name": "python3"
  },
  "language_info": {
   "name": "python",
   "version": "3.13.3"
  }
 },
 "nbformat": 4,
 "nbformat_minor": 5
}
